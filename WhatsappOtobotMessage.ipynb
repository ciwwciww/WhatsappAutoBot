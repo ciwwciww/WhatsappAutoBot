{
 "cells": [
  {
   "cell_type": "code",
   "execution_count": 26,
   "metadata": {},
   "outputs": [],
   "source": [
    "from selenium import webdriver\n",
    "import requests\n",
    "from bs4 import BeautifulSoup as bs\n",
    "from selenium.webdriver.common.keys import Keys\n",
    "import time \n",
    "import random"
   ]
  },
  {
   "cell_type": "code",
   "execution_count": 27,
   "metadata": {},
   "outputs": [],
   "source": [
    "with open('messages.txt', 'r', encoding = 'utf-8') as messages:\n",
    "    messagelist = list()\n",
    "    text = messages.read()\n",
    "    messagelist = text.split('\\n')\n"
   ]
  },
  {
   "cell_type": "code",
   "execution_count": 32,
   "metadata": {},
   "outputs": [],
   "source": [
    "def start():\n",
    "    flag = False\n",
    "    driver = webdriver.Chrome()\n",
    "    driver.implicitly_wait(3) #taracıyı açtıgımda hemen açılmassa feedback için 3 saniye beklicek\n",
    "    driver.get('https://web.whatsapp.com/')\n",
    "    input('harf giriniz')\n",
    "    message_area = driver.find_element_by_xpath('//*[@id=\"main\"]/footer/div[1]/div/span[2]/div/div[2]/div[1]')\n",
    "    \n",
    "    while True:\n",
    "        message_area.click()\n",
    "        wp_source = driver.page_source\n",
    "        soup = bs(wp_source, 'lxml')\n",
    "        search = soup.find_all('div',{'class': ['zzgSd', '_3e6xi']})\n",
    "        try:\n",
    "            online = search[0].span.text\n",
    "            print (online)\n",
    "            if (online in['çevrimiçi','online']) and flag == False:\n",
    "                print('online')\n",
    "                msgTosend = messagelist[random.randint(0,len(messagelist)-1)]\n",
    "                message_area.send_keys(msgTosend)\n",
    "                message_area.send_keys(Keys.ENTER)\n",
    "                Flag = True\n",
    "            elif online not in ['çevrimiçi', 'online']:\n",
    "                print('Şu an da çevrimdışı')\n",
    "                flag = False\n",
    "                \n",
    "        except:\n",
    "            print ('Şuan da çevrimdışı')\n",
    "            flag = False\n",
    "            pass\n",
    "        time.sleep (3)"
   ]
  },
  {
   "cell_type": "code",
   "execution_count": 33,
   "metadata": {},
   "outputs": [
    {
     "name": "stdout",
     "output_type": "stream",
     "text": [
      "harf girinizf\n"
     ]
    },
    {
     "name": "stderr",
     "output_type": "stream",
     "text": [
      "<ipython-input-32-7ab8a0b80aad>:7: DeprecationWarning: find_element_by_xpath is deprecated. Please use find_element(by=By.XPATH, value=xpath) instead\n",
      "  message_area = driver.find_element_by_xpath('//*[@id=\"main\"]/footer/div[1]/div/span[2]/div/div[2]/div[1]')\n"
     ]
    },
    {
     "name": "stdout",
     "output_type": "stream",
     "text": [
      "online\n",
      "online\n",
      "online\n",
      "online\n",
      "online\n",
      "online\n",
      "online\n",
      "online\n",
      "online\n",
      "online\n",
      "online\n",
      "online\n",
      "typing…\n",
      "Şu an da çevrimdışı\n",
      "typing…\n",
      "Şu an da çevrimdışı\n",
      "typing…\n",
      "Şu an da çevrimdışı\n",
      "online\n",
      "online\n",
      "online\n",
      "online\n",
      "online\n",
      "online\n",
      "online\n",
      "online\n",
      "online\n",
      "online\n",
      "online\n",
      "online\n",
      "online\n",
      "online\n",
      "typing…\n",
      "Şu an da çevrimdışı\n",
      "online\n",
      "online\n",
      "online\n",
      "online\n",
      "online\n",
      "online\n",
      "online\n",
      "online\n",
      "online\n",
      "online\n",
      "online\n",
      "online\n",
      "online\n",
      "online\n",
      "online\n",
      "online\n",
      "online\n",
      "online\n",
      "online\n",
      "online\n",
      "online\n",
      "online\n",
      "online\n",
      "online\n",
      "online\n",
      "online\n",
      "online\n",
      "online\n",
      "online\n",
      "online\n",
      "online\n",
      "online\n",
      "online\n",
      "online\n",
      "online\n",
      "online\n",
      "online\n",
      "online\n",
      "online\n",
      "online\n",
      "online\n",
      "online\n",
      "Şuan da çevrimdışı\n",
      "Şuan da çevrimdışı\n",
      "Şuan da çevrimdışı\n",
      "Şuan da çevrimdışı\n",
      "Şuan da çevrimdışı\n"
     ]
    },
    {
     "ename": "KeyboardInterrupt",
     "evalue": "",
     "output_type": "error",
     "traceback": [
      "\u001b[1;31m---------------------------------------------------------------------------\u001b[0m",
      "\u001b[1;31mKeyboardInterrupt\u001b[0m                         Traceback (most recent call last)",
      "\u001b[1;32m<ipython-input-33-4c90fb391ef5>\u001b[0m in \u001b[0;36m<module>\u001b[1;34m\u001b[0m\n\u001b[1;32m----> 1\u001b[1;33m \u001b[0mstart\u001b[0m \u001b[1;33m(\u001b[0m\u001b[1;33m)\u001b[0m\u001b[1;33m\u001b[0m\u001b[1;33m\u001b[0m\u001b[0m\n\u001b[0m",
      "\u001b[1;32m<ipython-input-32-7ab8a0b80aad>\u001b[0m in \u001b[0;36mstart\u001b[1;34m()\u001b[0m\n\u001b[0;32m     29\u001b[0m             \u001b[0mflag\u001b[0m \u001b[1;33m=\u001b[0m \u001b[1;32mFalse\u001b[0m\u001b[1;33m\u001b[0m\u001b[1;33m\u001b[0m\u001b[0m\n\u001b[0;32m     30\u001b[0m             \u001b[1;32mpass\u001b[0m\u001b[1;33m\u001b[0m\u001b[1;33m\u001b[0m\u001b[0m\n\u001b[1;32m---> 31\u001b[1;33m         \u001b[0mtime\u001b[0m\u001b[1;33m.\u001b[0m\u001b[0msleep\u001b[0m \u001b[1;33m(\u001b[0m\u001b[1;36m3\u001b[0m\u001b[1;33m)\u001b[0m\u001b[1;33m\u001b[0m\u001b[1;33m\u001b[0m\u001b[0m\n\u001b[0m",
      "\u001b[1;31mKeyboardInterrupt\u001b[0m: "
     ]
    }
   ],
   "source": [
    "start ()"
   ]
  },
  {
   "cell_type": "code",
   "execution_count": null,
   "metadata": {},
   "outputs": [],
   "source": []
  }
 ],
 "metadata": {
  "kernelspec": {
   "display_name": "Python 3",
   "language": "python",
   "name": "python3"
  },
  "language_info": {
   "codemirror_mode": {
    "name": "ipython",
    "version": 3
   },
   "file_extension": ".py",
   "mimetype": "text/x-python",
   "name": "python",
   "nbconvert_exporter": "python",
   "pygments_lexer": "ipython3",
   "version": "3.8.5"
  }
 },
 "nbformat": 4,
 "nbformat_minor": 4
}
